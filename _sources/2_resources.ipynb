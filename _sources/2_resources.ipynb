{
 "cells": [
  {
   "cell_type": "markdown",
   "id": "622e8513-d67f-4e7f-b90b-aaa2aebbfed1",
   "metadata": {},
   "source": [
    "# Resources and references\n",
    "\n",
    "I’ve put together some resources and references using Python (but keep in mind, R is another popular route into data science)."
   ]
  },
  {
   "cell_type": "markdown",
   "id": "6e102b17-13ec-4d75-898c-96c4794e0c75",
   "metadata": {},
   "source": [
    "## Some Python packages \n",
    "\n",
    "First, I list some indispensable Python libraries used in data science.\n",
    "In addition to core Python, you should also start getting familiar with a few other tools:\n",
    "\n",
    "\n",
    "- Python's classics:\n",
    "    - [NumPy](https://numpy.org/) – numerical computing and array manipulation.\n",
    "    - [SciPy](https://scipy.org/) – scientific computing and statistics.\n",
    "    - [Matplotlib](https://matplotlib.org/) – basic plotting library.\n",
    "- Data Manipulation:\n",
    "    - [Pandas](https://pandas.pydata.org) – data structures and analysis tools.\n",
    "- Statistical Analysis:\n",
    "    - [statsmodels](https://www.statsmodels.org/stable/index.html) – estimation of statistical models, statistical tests, and data exploration.\n",
    "- Machine Learning:\n",
    "    - [Scikit-learn](https://scikit-learn.org/stable/) – widely used machine learning library.\n",
    "- Natural Language Processing (NLP):\n",
    "    - [NLTK](https://www.nltk.org) – platform for working with human language data.\n",
    "    - [SpaCy](https://spacy.io) – main library for NLP tasks.\n",
    "    - [Gensim](https://radimrehurek.com/gensim/intro.html) – topic modeling library.\n",
    "- Data Visualization:\n",
    "    - [Seaborn](https://seaborn.pydata.org) – statistical data visualization.\n",
    "    - [Plotly](https://plotly.com/python/) – interactive graphing library.\n",
    "- Web Scraping:\n",
    "    - [BeautifulSoup](https://beautiful-soup-4.readthedocs.io/en/latest/) – extracting data from HTML files.\n"
   ]
  },
  {
   "cell_type": "markdown",
   "id": "82bf3172-50df-49ed-a2e8-607292887b93",
   "metadata": {},
   "source": [
    "## Resources and references for general data sciences\n",
    "\n",
    "### Books\n",
    "\n",
    "- **[An Introduction to Statistical Learning with Applications in Python](https://link.springer.com/book/10.1007/978-3-031-38747-0)**, Springer 2023, by \n",
    "Gareth James, Daniela Witten, Trevor Hastie, Robert Tibshirani, and Jonathan Taylor. See [Book Homepage and Resources](https://www.statlearning.com) with the [PDF](https://hastie.su.domains/ISLP/ISLP_website.pdf.download.html) and the associated [Youtube videos](https://youtube.com/playlist?list=PLoROMvodv4rNHU1-iPeDRH-J0cL-CrIda&feature=shared) with Trevor Hastie & Jonathan Taylor (and it starts with Trevor complimenting Jonathan on his new haircut, why not...). [Trevor Hastie](https://hastie.su.domains) is one of the big dudes in statistics (see his [book](https://hastie.su.domains/ElemStatLearn/)  \"The Elements of Statistical Learning: Data Mining, Inference, and Prediction\"), and [Jonathan Taylor](https://jtaylor.su.domains) is a younger statistician with a nice new haircut.\n",
    "\n",
    "- **[Python for Data Analysis](https://www.oreilly.com/library/view/python-for-data/9781491957653/)** (3rd ed.), O’Reilly 2022, by [Wes McKinney](https://wesmckinney.com) a creator of Panda. The [open edition](https://wesmckinney.com/book/) is avalaible, with the [codes](https://github.com/wesm/pydata-book/tree/3rd-edition), see his   [GitHub](https://github.com/wesm) for other resources.\n",
    "\n",
    "- **[Python Data Science Handbook](https://www.oreilly.com/library/view/python-data-science/9781491912126/)** (2nd ed.), O’Reilly 2022, by [Jake VanderPlas](http://vanderplas.com) -- [full text](https://jakevdp.github.io/PythonDataScienceHandbook/), and the associated [Jupyter Notebook](https://github.com/jakevdp/PythonDataScienceHandbook) (very nice!), see his [GitHub](https://github.com/jakevdp) for other resources.\n",
    "\n",
    "- **[Practical Statistics for Data Scientists: 50+ Essential Concepts Using R and Python](https://www.oreilly.com/library/view/practical-statistics-for/9781492072935/)** (2nd ed.), O'Reilly 2020, by Peter Bruce, Andrew Bruce, Peter Gedeck. See the [GitHub](https://github.com/gedeck/practical-statistics-for-data-scientists/tree/master) with the Python [codes and notebooks](https://github.com/gedeck/practical-statistics-for-data-scientists/tree/master/python).\n",
    "\n",
    "- **[Python for Probability, Statistics, and Machine Learning](https://link.springer.com/book/10.1007/978-3-031-04648-3)** (3rd ed.), Springer 2022, by José Unpingco. See his [GitHub](https://github.com/unpingco) for other resources.\n",
    "\n",
    "- **[Hands-On Machine Learning with Scikit-Learn, Keras & Tensorflow](https://www.oreilly.com/library/view/hands-on-machine-learning/9781492032632/)** (3rd ed.), O’Reilly 2022, by [Aurélien Géron](https://github.com/ageron),  and the associated [notebooks](https://github.com/ageron/handson-ml2), see his   [GitHub](https://github.com/ageron) for other resources.\n",
    "Machine learning and deep Learning.\n",
    "\n",
    "- **[Deep Learning Illustrated](https://www.deeplearningillustrated.com)**,  Addison-Wesley 2019, by [Jon Krohn](https://www.jonkrohn.com), with the associated [notebooks](https://github.com/the-deep-learners/deep-learning-illustrated), the concept if quite interesting. See also this [github](https://github.com/jonkrohn/DLTFpT).\n",
    "\n",
    "I do not provide references on the basic mathematical foundations of data science, which usually include linear algebra, calculus (with a focus on optimization), probability theory, statistics (both elementary and inferential), discrete mathematics (graphs, combinatorics, logic), and sometimes numerical methods. I also do not include general references on statistics, machine learning, or Python programming itself, as well as topics related to databases such as SQL, relational database design, and NoSQL systems. There are numerous high-quality resources available for all these areas.\n",
    "\n",
    "### Jupyter (note)books\n",
    "\n",
    "Among the previous references:\n",
    "\n",
    "- Jake VanderPlas' [Python Data Science Handbook](https://github.com/jakevdp/PythonDataScienceHandbook)\n",
    "- Aurélien Géron's [notebooks](https://github.com/ageron/handson-ml2), *a series of Jupyter notebooks that walk you through the fundamentals of Machine Learning and Deep Learning in Python using Scikit-Learn, Keras and TensorFlow 2.*\n",
    "- Wes McKinney's \"Python for Data Analysis\" [open edition](https://wesmckinney.com/book/) and [notebooks](https://github.com/wesm/pydata-book/tree/3rd-edition).\n"
   ]
  },
  {
   "cell_type": "markdown",
   "id": "09521e23-e73e-4c0b-836f-056959be5764",
   "metadata": {},
   "source": [
    "## Resources and references for data sciences in neurosciences\n",
    "\n",
    "### References\n",
    "\n",
    "- **[Python in Neuroscience](https://www.frontiersin.org/journals/neuroinformatics/articles/10.3389/fninf.2015.00011/full)**, E. Muller, J. A. Bednar, M. Diesmann, M.-O. Gewaltig, M. Hines, and A. P. Davison  \n",
    "Frontiers in Neuroinformatics, 9, 2015.\n",
    "\n",
    "- **[Case Studies in Neural Data Analysis](https://mitpress.ublish.com/book/case-studies-neural-data-analysis)**, 2016 - The book presents MATLAB tools, but there is an associated [GitHub repository](https://github.com/Mark-Kramer/Case-Studies-Kramer-Eden) for Python. The book primarily covers extracranial data, except Chapter 8: *Basic Visualizations and Descriptive Statistics of SpikeTrainData*.\n",
    "\n",
    "- **[Neural Data Science](https://neuraldatascience.io/)** (2020–23), [Aaron J. Newman](https://www.dal.ca/faculty/science/psychology_neuroscience/faculty-staff/our-faculty/aaron-newman.html) from the [NeuroCognitive Imaging Lab](https://www.ncilab.ca) (Dalhousie University, Halifax).  \n",
    "Starts from scratch, especially in Python. Includes a section on [Single Unit Data](https://neuraldatascience.io/6-single_unit/introduction.html). See the [GitHub repository](https://github.com/neural-data-science/NESC_3505_textbook) for the Jupyter Book and the YouTube channel [Neural Data Science with Python](https://www.youtube.com/playlist?list=PLtfEWMIgWS22MMZjPIzBRE2cHhMcvEKwp).\n",
    "\n",
    "- **Neural Data Science: A Primer with MATLAB and Python**, Erik Lee Nylen and Pascal Wallisch, 2017.  \n",
    "See the [table of contents](https://www.sciencedirect.com/book/9780128040430/neural-data-science).\n",
    "\n"
   ]
  },
  {
   "cell_type": "markdown",
   "id": "ffc27a4a-9804-438e-84e2-bb5dd4e8ef34",
   "metadata": {},
   "source": [
    "### Spike Train and Electrophysiology Data Analysis\n",
    "\n",
    "#### Python packages\n",
    "\n",
    "- **[syncopy](https://github.com/esi-neuroscience/syncopy)** - Systems Neuroscience Computing in Python: a Python package for large-scale analysis of electrophysiological data, with the following [article](https://www.frontiersin.org/journals/neuroinformatics/articles/10.3389/fninf.2024.1448161/full).\n",
    "\n",
    "- **[MNE](https://mne.tools/stable/index.html)** - Open-source Python package for exploring, visualizing, and analyzing human neurophysiological data: MEG, EEG, sEEG, ECoG, NIRS, and more).\n",
    "  \n",
    "- **[pynapple](https://pynapple.org)** – Python Neural Analysis Package. Pynapple is a lightweight Python library for neurophysiological data analysis. See the article: [Pynapple, a toolbox for data analysis in neuroscience](https://elifesciences.org/reviewed-preprints/85786), 2023.\n",
    "\n",
    "- **[osl-ephys](https://osl-ephys.readthedocs.io/en/latest/)** - This package contains models for analysing electrophysiology data. It builds on top of the widely used MNE-Python package and contains  analysis tools for M/EEG sensor and source space analysis.  From the [Oxford Centre for Human Brain Activity Analysis Group](https://www.psych.ox.ac.uk/research/ohba-analysis-group), with this [GitHub repository](https://github.com/OHBA-analysis/OHBA-Examples/tree/main) and this 2025 paper: [osl-ephys: a Python toolbox for the analysis of electrophysiology data](https://www.frontiersin.org/journals/neuroscience/articles/10.3389/fnins.2025.1522675/full).  \n",
    "\n",
    "- **[NeuralEnsemble](http://neuralensemble.org)** – a community-based initiative to promote and coordinate open-source software development in neuroscience. **Inactive since 2022.**\n",
    "\n",
    "#### Jupyter (note)book(s)\n",
    "\n",
    "- **[Spike sorting the 'Do It Yourself' way](https://c_pouzat.gitlab.io/spike-sorting-the-diy-way/)** a Jupyter book by [Christophe Pouzat](https://xtof.perso.math.cnrs.fr) with the [gitlab repository](https://gitlab.com/c_pouzat/spike-sorting-the-diy-way). See also the  [Probabilistic Spiking Neuronal Nets: Companion](https://probabilistic-spiking-neuronal-nets-c-pouzat-491a1ca82ffec5679d.gitlab.io/index.html) associated with tge book [Probabilistic Spiking Neuronal Nets](https://link.springer.com/book/10.1007/978-3-031-68409-8) co-authored with Antonio Galves and Eva Löcherbach.\n",
    "\n",
    "### Blog(s) and blog posts.\n",
    "\n",
    "- [Spikes and Bursts](https://spikesandbursts.wordpress.com) — an interesting blog by [David Cabrera-Garcia](https://scholar.google.com/citations?user=Dmwnwb4AAAAJ&hl=en), where he explores various [concepts](https://spikesandbursts.wordpress.com/neuroscience-contents/).  \n",
    "  He also runs a [YouTube channel](https://www.youtube.com/@spikesandbursts/videos) and shares projects on [GitHub](https://github.com/dav1dcg). An interesting post:\n",
    "\n",
    "     - [Patch-clamp data analysis in Python: animate time series data](https://spikesandbursts.wordpress.com/tag/patch-clamp/).\n",
    "\n",
    "- [Patch clamp electrophysiology analysis with Python](https://www.scientifica.cn/neurowire/patch-clamp-electrophysiology-analysis-with-python) (2023) by [Vincenzo Mastrolia](https://devneuro.org/cdn/people-detail.php?personID=2242)\n",
    "\n",
    "\n",
    "### Misc.\n",
    "\n",
    "- **[ElecFeX](https://github.com/XinyueMa-neuro/ElecFeX)** - A MATLAB-based Electrophysiological Feature eXtraction toolbox for single-cell intracellular recordings. See the article: *[ElecFeX is a user-friendly toolbox for efficient feature extraction from single-cell electrophysiological recordings](https://www.sciencedirect.com/science/article/pii/S2667237524001437)*"
   ]
  },
  {
   "cell_type": "markdown",
   "id": "34345ec3-4e2e-496e-bd95-5336b2a20238",
   "metadata": {},
   "source": [
    "### Other tools\n",
    "\n",
    "Before analyzing data, we first need to read electrophysiology recordings and handle the different standards used.\n",
    "\n",
    "- The  [pyABF](https://pypi.org/project/pyabf/) library was created by [Scott Harden](https://swharden.com/about/). We will return to that package in a future section.\n"
   ]
  },
  {
   "cell_type": "markdown",
   "id": "8b85e692-d0fa-41cf-917f-0bef02f1594d",
   "metadata": {},
   "source": [
    "\n"
   ]
  },
  {
   "cell_type": "markdown",
   "id": "924ffb49-59ee-44dc-aa3b-bd7a695b574b",
   "metadata": {},
   "source": []
  },
  {
   "cell_type": "code",
   "execution_count": null,
   "id": "333c62d8-f67f-456f-883e-c66824327396",
   "metadata": {},
   "outputs": [],
   "source": []
  }
 ],
 "metadata": {
  "kernelspec": {
   "display_name": "Python 3 (ipykernel)",
   "language": "python",
   "name": "python3"
  },
  "language_info": {
   "codemirror_mode": {
    "name": "ipython",
    "version": 3
   },
   "file_extension": ".py",
   "mimetype": "text/x-python",
   "name": "python",
   "nbconvert_exporter": "python",
   "pygments_lexer": "ipython3",
   "version": "3.13.7"
  }
 },
 "nbformat": 4,
 "nbformat_minor": 5
}
