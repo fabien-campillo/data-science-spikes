{
 "cells": [
  {
   "cell_type": "markdown",
   "id": "622e8513-d67f-4e7f-b90b-aaa2aebbfed1",
   "metadata": {},
   "source": [
    "# Resources and references\n",
    "\n",
    "I’ve put together some resources and references using Python (but keep in mind, R is another popular route into data science)."
   ]
  },
  {
   "cell_type": "markdown",
   "id": "6e102b17-13ec-4d75-898c-96c4794e0c75",
   "metadata": {},
   "source": [
    "## Some Python Libraries \n",
    "\n",
    "First, I list some indispensable Python libraries used in data science.\n",
    "In addition to core Python, you should also start getting familiar with a few other tools:\n",
    "\n",
    "\n",
    "- Python's classics:\n",
    "    - [NumPy](https://numpy.org/) – numerical computing and array manipulation.\n",
    "    - [SciPy](https://scipy.org/) – scientific computing and statistics.\n",
    "    - [Matplotlib](https://matplotlib.org/) – basic plotting library.\n",
    "- Data Manipulation:\n",
    "    - [Pandas](https://pandas.pydata.org) – data structures and analysis tools.\n",
    "- Statistical Analysis:\n",
    "    - [statsmodels](https://www.statsmodels.org/stable/index.html) – estimation of statistical models, statistical tests, and data exploration.\n",
    "- Machine Learning:\n",
    "    - [Scikit-learn](https://scikit-learn.org/stable/) – widely used machine learning library.\n",
    "- Natural Language Processing (NLP):\n",
    "    - [NLTK](https://www.nltk.org) – platform for working with human language data.\n",
    "    - [SpaCy](https://spacy.io) – main library for NLP tasks.\n",
    "    - [Gensim](https://radimrehurek.com/gensim/intro.html) – topic modeling library.\n",
    "- Data Visualization:\n",
    "    - [Seaborn](https://seaborn.pydata.org) – statistical data visualization.\n",
    "    - [Plotly](https://plotly.com/python/) – interactive graphing library.\n",
    "- Web Scraping:\n",
    "    - [BeautifulSoup](https://beautiful-soup-4.readthedocs.io/en/latest/) – extracting data from HTML files.\n"
   ]
  },
  {
   "cell_type": "markdown",
   "id": "82bf3172-50df-49ed-a2e8-607292887b93",
   "metadata": {},
   "source": [
    "## Resources and references for general data sciences\n",
    "\n",
    "### Books\n",
    "\n",
    "- **[An Introduction to Statistical Learning with Applications in Python](https://link.springer.com/book/10.1007/978-3-031-38747-0)**, Springer 2023, by \n",
    "Gareth James, Daniela Witten, Trevor Hastie, Robert Tibshirani, and Jonathan Taylor. See [Book Homepage and Resources](https://www.statlearning.com) with the [PDF](https://hastie.su.domains/ISLP/ISLP_website.pdf.download.html) and the associated [Youtube videos](https://youtube.com/playlist?list=PLoROMvodv4rNHU1-iPeDRH-J0cL-CrIda&feature=shared) with Trevor Hastie & Jonathan Taylor (and it starts with Trevor complimenting Jonathan on his new haircut, why not...). [Trevor Hastie](https://hastie.su.domains) is one of the big dudes in statistics (see his [book](https://hastie.su.domains/ElemStatLearn/)  \"The Elements of Statistical Learning: Data Mining, Inference, and Prediction\"), and [Jonathan Taylor](https://jtaylor.su.domains) is a younger statistician with a nice new haircut.\n",
    "\n",
    "- **[Python for Data Analysis](https://www.oreilly.com/library/view/python-for-data/9781491957653/)** (3rd ed.), O’Reilly 2022, by [Wes McKinney](https://wesmckinney.com) a creator of Panda. The [open edition](https://wesmckinney.com/book/) is avalaible, with the [codes](https://github.com/wesm/pydata-book/tree/3rd-edition), see his   [GitHub](https://github.com/wesm) for other resources.\n",
    "\n",
    "- **[Python Data Science Handbook](https://www.oreilly.com/library/view/python-data-science/9781491912126/)** (2nd ed.), O’Reilly 2022, by [Jake VanderPlas](http://vanderplas.com) -- [full text](https://jakevdp.github.io/PythonDataScienceHandbook/), and the associated [Jupyter Notebook](https://github.com/jakevdp/PythonDataScienceHandbook) (very nice!), see his [GitHub](https://github.com/jakevdp) for other resources.\n",
    "\n",
    "- **[Practical Statistics for Data Scientists: 50+ Essential Concepts Using R and Python](https://www.oreilly.com/library/view/practical-statistics-for/9781492072935/)** (2nd ed.), O'Reilly 2020, by Peter Bruce, Andrew Bruce, Peter Gedeck. See the [GitHub](https://github.com/gedeck/practical-statistics-for-data-scientists/tree/master) with the Python [codes and notebooks](https://github.com/gedeck/practical-statistics-for-data-scientists/tree/master/python).\n",
    "\n",
    "- **[Python for Probability, Statistics, and Machine Learning](https://link.springer.com/book/10.1007/978-3-031-04648-3)** (3rd ed.), Springer 2022, by José Unpingco. See his [GitHub](https://github.com/unpingco) for other resources.\n",
    "\n",
    "- **[Hands-On Machine Learning with Scikit-Learn, Keras & Tensorflow](https://www.oreilly.com/library/view/hands-on-machine-learning/9781492032632/)** (3rd ed.), O’Reilly 2022, by [Aurélien Géron](https://github.com/ageron),  and the associated [notebooks](https://github.com/ageron/handson-ml2), see his   [GitHub](https://github.com/ageron) for other resources.\n",
    "Machine learning and deep Learning.\n",
    "\n",
    "- **[Deep Learning Illustrated](https://www.deeplearningillustrated.com)**,  Addison-Wesley 2019, by [Jon Krohn](https://www.jonkrohn.com), with the associated [notebooks](https://github.com/the-deep-learners/deep-learning-illustrated), the concept if quite interesting. See also this [github](https://github.com/jonkrohn/DLTFpT).\n",
    "\n",
    "I do not provide references on the basic mathematical foundations of data science, which usually include linear algebra, calculus (with a focus on optimization), probability theory, statistics (both elementary and inferential), discrete mathematics (graphs, combinatorics, logic), and sometimes numerical methods. I also do not include general references on statistics, machine learning, or Python programming itself, as well as topics related to databases such as SQL, relational database design, and NoSQL systems. There are numerous high-quality resources available for all these areas.\n",
    "\n",
    "### Jupyter (note)books\n",
    "\n",
    "Among the previous references:\n",
    "\n",
    "- Jake VanderPlas' [Python Data Science Handbook](https://github.com/jakevdp/PythonDataScienceHandbook)\n",
    "- Aurélien Géron's [notebooks](https://github.com/ageron/handson-ml2), *a series of Jupyter notebooks that walk you through the fundamentals of Machine Learning and Deep Learning in Python using Scikit-Learn, Keras and TensorFlow 2.*\n",
    "- Wes McKinney's \"Python for Data Analysis\" [open edition](https://wesmckinney.com/book/) and [notebooks](https://github.com/wesm/pydata-book/tree/3rd-edition).\n"
   ]
  },
  {
   "cell_type": "markdown",
   "id": "09521e23-e73e-4c0b-836f-056959be5764",
   "metadata": {},
   "source": [
    "## Resources and references for data sciences in neurosciences\n",
    "\n",
    "- [Python in Neuroscience](https://www.frontiersin.org/journals/neuroinformatics/articles/10.3389/fninf.2015.00011/full)  \n",
    "E. Muller, J. A. Bednar, M. Diesmann, M.-O. Gewaltig, M. Hines, and A. P. Davison  \n",
    "Frontiers in Neuroinformatics, 9, 2015.\n",
    "\n",
    "- [Case Studies in Neural Data Analysis](https://mitpress.ublish.com/book/case-studies-neural-data-analysis), 2016.  \n",
    "The book presents MATLAB tools, but there is an associated [GitHub repository](https://github.com/Mark-Kramer/Case-Studies-Kramer-Eden) for Python. The book primarily covers extracranial data, except Chapter 8: *Basic Visualizations and Descriptive Statistics of SpikeTrainData*.\n",
    "\n",
    "- [Neural Data Science](https://neuraldatascience.io/) (2020–23) by [Aaron J. Newman](https://www.dal.ca/faculty/science/psychology_neuroscience/faculty-staff/our-faculty/aaron-newman.html) from the [NeuroCognitive Imaging Lab](https://www.ncilab.ca) (Dalhousie University, Halifax).  \n",
    "Starts from scratch, especially in Python. Includes a section on [Single Unit Data](https://neuraldatascience.io/6-single_unit/introduction.html). See the [GitHub repository](https://github.com/neural-data-science/NESC_3505_textbook) for the Jupyter Book and the YouTube channel [Neural Data Science with Python](https://www.youtube.com/playlist?list=PLtfEWMIgWS22MMZjPIzBRE2cHhMcvEKwp).\n",
    "\n",
    "- *Neural Data Science: A Primer with MATLAB and Python*, Erik Lee Nylen and Pascal Wallisch, 2017.  \n",
    "See the [table of contents](https://www.sciencedirect.com/book/9780128040430/neural-data-science).\n",
    "\n"
   ]
  },
  {
   "cell_type": "markdown",
   "id": "661f2f9a-05c4-4fa8-8e71-2751c3b587c7",
   "metadata": {},
   "source": [
    "### Electrophysiology M/EEG"
   ]
  },
  {
   "cell_type": "markdown",
   "id": "080b5426-5fa4-4cd0-9e95-a3c9a9fbde91",
   "metadata": {},
   "source": [
    "### \"Direct\" electrophysiology"
   ]
  },
  {
   "cell_type": "markdown",
   "id": "ffc27a4a-9804-438e-84e2-bb5dd4e8ef34",
   "metadata": {},
   "source": [
    "## Electrophysiology\n",
    "\n",
    "\n",
    "\n",
    "## Spike Train and Electrophysiology Data Analysis\n",
    "\n",
    "#### References\n",
    "\n",
    "- [Systems Neuroscience Computing in Python (SyNCoPy): a Python package for large-scale analysis of electrophysiological data](https://www.frontiersin.org/journals/neuroinformatics/articles/10.3389/fninf.2024.1448161/full), Systems Neuroscience Computing in Python (SyNCoPy), 2024\n",
    "\n",
    "#### Python Tools\n",
    "\n",
    "- [pynapple](https://pynapple.org) – Python Neural Analysis Package. Pynapple is a lightweight Python library for neurophysiological data analysis. See the article: [Pynapple, a toolbox for data analysis in neuroscience](https://elifesciences.org/reviewed-preprints/85786), 2023.\n",
    "\n",
    "- [osl-ephys](https://osl-ephys.readthedocs.io/en/latest/) – from the [Oxford Centre for Human Brain Activity Analysis Group](https://www.psych.ox.ac.uk/research/ohba-analysis-group), with this [GitHub repository](https://github.com/OHBA-analysis/OHBA-Examples/tree/main) and this 2025 paper: [osl-ephys: a Python toolbox for the analysis of electrophysiology data](https://www.frontiersin.org/journals/neuroscience/articles/10.3389/fnins.2025.1522675/full).  \n",
    "  ⚠️ This is for **M/EEG data [Magnetoencephalography (MEG) + Electroencephalography (EEG)].** osl-ephys is built on the [MNE package](https://mne.tools/stable/index.html) (Open-source Python package for exploring, visualizing, and analyzing human neurophysiological data: MEG, EEG, sEEG, ECoG, NIRS, and more).\n",
    "\n",
    "- [NeuralEnsemble](http://neuralensemble.org) – a community-based initiative to promote and coordinate open-source software development in neuroscience. **Inactive since 2022.**\n",
    "\n",
    "Follow Christophe Pouzat: [website](https://xtof.perso.math.cnrs.fr), [GitHub](https://github.com/christophe-pouzat), [GitLab](https://gitlab.com/c_pouzat), [PLMLab](https://plmlab.math.cnrs.fr/xtof). He points to datasets:\n",
    "\n",
    "- Tetrode recording from the antennal lobe of a locust (*Schistocerca americana*) (doi: 10.5281/zenodo.14607).  \n",
    "- Dataset from Matthieu Delescluse and Christophe Pouzat (2006), *Efficient spike-sorting of multi-state neurons using inter-spike intervals information*, Journal of Neuroscience Methods 150: 16–29. (doi: 10.5281/zenodo.15228).  \n",
    "- Dataset from Pouzat and Chaffiol (2009), Journal of Neuroscience Methods 181:119. (doi: 10.5281/zenodo.14281).  \n",
    "- All postdoc extracellular recordings from the locust olfactory pathway are now available — a third of the data was lost due to CD corruption after 14 years! (doi: 10.5281/zenodo.21589). Roughly 15 GB of data from 14 experiments. Detailed descriptions of the spike sorting are available on GitHub.  \n",
    "\n",
    "See also: [Probabilistic Spiking Neuronal Nets: Companion](https://probabilistic-spiking-neuronal-nets-c-pouzat-491a1ca82ffec5679d.gitlab.io/index.html).\n"
   ]
  },
  {
   "cell_type": "markdown",
   "id": "34345ec3-4e2e-496e-bd95-5336b2a20238",
   "metadata": {},
   "source": []
  },
  {
   "cell_type": "markdown",
   "id": "8b85e692-d0fa-41cf-917f-0bef02f1594d",
   "metadata": {},
   "source": []
  }
 ],
 "metadata": {
  "kernelspec": {
   "display_name": "Python 3 (ipykernel)",
   "language": "python",
   "name": "python3"
  },
  "language_info": {
   "codemirror_mode": {
    "name": "ipython",
    "version": 3
   },
   "file_extension": ".py",
   "mimetype": "text/x-python",
   "name": "python",
   "nbconvert_exporter": "python",
   "pygments_lexer": "ipython3",
   "version": "3.13.7"
  }
 },
 "nbformat": 4,
 "nbformat_minor": 5
}
