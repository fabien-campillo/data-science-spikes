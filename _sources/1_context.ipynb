{
 "cells": [
  {
   "cell_type": "markdown",
   "id": "622e8513-d67f-4e7f-b90b-aaa2aebbfed1",
   "metadata": {},
   "source": [
    "# Context\n",
    "\n",
    "*This Jupyter Book is designed to help you get started in data science by exploring electrophysiological data, especially spike train recordings, in a practical and accessible way.*\n",
    "\n",
    "<br>\n",
    "\n",
    "\n",
    "Even though we are mainly interested in processing electrophysiology measurements such as spikes, we will attempt an overview of neuroscience resources.\n",
    "\n",
    "We will focus on electrophysiology data processing and distinguish between:\n",
    "\n",
    "- M/EEG data, non-invasive/extracranial,\n",
    "- and invasive data at the single neuron level or from a population of neurons, notably using MEA (Multi-Electrode Array).\n",
    "\n",
    "*It is this second category that is of most interest to us (MathNeuro).* The first category is very well developed.\n",
    "Processing extracranial electrophysiological data (EEG/MEG) is generally more complex than processing intracranial measurements (spikes, LFP, ECoG). In intracranial recordings, electrodes are close to neurons: the signal is more localized, with a better signal-to-noise ratio, which facilitates the identification of action potentials or local fields. In contrast, extracranial signals are heavily attenuated, resulting from the summation of millions of neurons and distorted by cranial tissues. They are also contaminated by numerous artifacts. Analysis therefore requires advanced processing (filtering, correction, modeling) and solving the inverse problem (retrieving brain sources from incomplete and ambiguous measurements, which is a mathematically ill-posed problem).\n",
    "\n",
    "<br>\n",
    "\n",
    "This Jupyter Book is part of the Data Science Bootcamp for [MathNeuro](https://team.inria.fr/mathneuro/) and is made openly accessible to the broader community.\n",
    "\n",
    "This Jupyter book [https://fabien-campillo.github.io/data-science-spikes/](https://fabien-campillo.github.io/data-science-spikes/)<br>\n",
    "See also the GitHub repository [https://github.com/fabien-campillo/data-science-spikes](https://github.com/fabien-campillo/data-science-spikes).\n",
    "\n",
    "[Download PDF](Spikes-Data-Sciences.pdf)\n",
    "\n",
    "*Several parts of this book, including sections of the Markdown content and Python source code, were generated or refined with the assistance of **ChatGPT-4**, which also provided guidance on building this Jupyter Book. Some of the prompts used with ChatGPT are preserved as comments in the Markdown cells, providing a peek into the questions and guidance that shaped the content. While this tool was helpful in drafting and organizing content, all remaining errors and final decisions are entirely my own.*\n",
    "\n",
    "\n",
    "<hr style=\"border: 1px solid black;\">\n",
    "\n",
    "By [Fabien Campillo](https://www-sop.inria.fr/members/Fabien.Campillo/)  <br>\n",
    "© Copyright 2025. This work is licensed under CC BY-NC-SA 4.0 (Creative Commons Attribution-NonCommercial-ShareAlike).\n"
   ]
  },
  {
   "cell_type": "markdown",
   "id": "924ffb49-59ee-44dc-aa3b-bd7a695b574b",
   "metadata": {},
   "source": []
  },
  {
   "cell_type": "code",
   "execution_count": null,
   "id": "333c62d8-f67f-456f-883e-c66824327396",
   "metadata": {},
   "outputs": [],
   "source": []
  }
 ],
 "metadata": {
  "kernelspec": {
   "display_name": "Python 3 (ipykernel)",
   "language": "python",
   "name": "python3"
  },
  "language_info": {
   "codemirror_mode": {
    "name": "ipython",
    "version": 3
   },
   "file_extension": ".py",
   "mimetype": "text/x-python",
   "name": "python",
   "nbconvert_exporter": "python",
   "pygments_lexer": "ipython3",
   "version": "3.9.18"
  }
 },
 "nbformat": 4,
 "nbformat_minor": 5
}
