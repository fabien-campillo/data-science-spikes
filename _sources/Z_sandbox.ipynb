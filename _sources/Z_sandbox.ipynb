{
 "cells": [
  {
   "cell_type": "markdown",
   "id": "adc9a158-af48-43c5-b370-dd49b6862bf5",
   "metadata": {},
   "source": [
    "# SANDBOX"
   ]
  },
  {
   "cell_type": "markdown",
   "id": "9c23c84a-0255-4d04-be52-f419170d50cf",
   "metadata": {},
   "source": [
    "# VOIR\n",
    "\n",
    "- [Links](https://www.winltp.co.uk/LowCostNoCost.html)  to Low Cost / No Cost Electrophysiology Software for Synaptic Plasticity Related Software\n",
    "- [OneMol](https://onemol.org.uk/?page_id=8) UCL's single channel group: [onemol.org.uk](https://onemol.org.uk)\n",
    "- [David Colquhoun's single channel analysis programs](https://www.winltp.co.uk/LowCostNoCost.html)\n",
    "- [Spike2_Burst_Analysis](https://github.com/marderlab/Spike2_Burst_Analysis) Get bursts from .abf (pClamp) files using Spike2 scripts. Do further analysis in Matlab Some of the scripts were written by Dirk Bucher\n",
    "- [wcr-python](https://github.com/dav1dcg/wcr-python) et [neuro-notebook-templates](https://github.com/dav1dcg/neuro-notebook-templates)  de [David Cabrera-Garcia](https://scholar.google.com/citations?user=Dmwnwb4AAAAJ&hl=en)"
   ]
  }
 ],
 "metadata": {
  "kernelspec": {
   "display_name": "Python 3 (ipykernel)",
   "language": "python",
   "name": "python3"
  },
  "language_info": {
   "codemirror_mode": {
    "name": "ipython",
    "version": 3
   },
   "file_extension": ".py",
   "mimetype": "text/x-python",
   "name": "python",
   "nbconvert_exporter": "python",
   "pygments_lexer": "ipython3",
   "version": "3.13.7"
  }
 },
 "nbformat": 4,
 "nbformat_minor": 5
}
