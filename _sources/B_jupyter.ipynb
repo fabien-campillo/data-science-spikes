{
 "cells": [
  {
   "cell_type": "markdown",
   "id": "1a84b7c0-0e31-4b64-8d12-4f70383b1702",
   "metadata": {},
   "source": [
    "# Interactive Computing with Jupyter Ecosystem\n",
    "\n",
    "> Jupyter, Jupyter Notebook, JupyterLab, Binder / MyBinder, Jupyter{book}, Colab, Deepnote "
   ]
  },
  {
   "cell_type": "markdown",
   "id": "0a10a108-01bc-4852-86ff-cf5db1298e9b",
   "metadata": {},
   "source": [
    "## Jupyter and around\n",
    "\n",
    "The Jupyter ecosystem evolved to make computing **interactive, reproducible, and shareable**. It began with [IPython](https://ipython.org), an enhanced Python shell for rapid experimentation, and expanded into [Jupyter](https://jupyter.org) to support multiple languages through a decoupled kernel-interface model. [Jupyter Notebook](https://jupyter.org) introduced a web-based environment combining code, outputs, and narrative text, ideal for teaching, research, and data analysis. [JupyterLab](https://jupyter.org) provides a modern, flexible workspace for managing notebooks, scripts, and data in complex projects. Finally, [Jupyter{book}](https://jupyterbook.org/en/stable/intro.html) allows structured, publication-quality books and websites to be built from notebooks and Markdown, fully executable and shareable. Together, these tools address the need for **interactive coding, reproducibility, multi-language support, and clear communication of computational results**, even beyond Python:\n",
    "\n",
    "\n",
    "- **[Jupyter](https://jupyter.org)** is an open-source project that evolved from [IPython](https://ipython.org). IPython originally provided an enhanced interactive Python shell, with powerful features like introspection, rich media, and tab-completion, making Python more user-friendly for experimentation and data analysis. Jupyter extended this idea to **multiple programming languages** (Python, R, Julia, and more) by separating the **kernel** (which executes code) from the **interface** (which displays results interactively).\n",
    "\n",
    "- **[Jupyter Notebook](https://jupyter.org)** builds on this foundation, providing a web-based interactive environment where users can write and execute code, display rich outputs (plots, images, LaTeX, widgets), and combine them with narrative text. This allows notebooks to serve as **reproducible documents** for data analysis, teaching, and scientific communication.\n",
    "\n",
    "- **[JupyterLab](https://jupyterlab.readthedocs.io/en/latest/)** is the next-generation interface for Jupyter, offering a **modular, flexible environment** where users can work with notebooks, text editors, terminals, and data files all in one workspace. It improves productivity for complex projects, supports extensions, and makes multi-document workflows smoother than classic notebooks.\n",
    "\n",
    "- **[Binder/MyBinder](https://mybinder.org/)** is a cloud service that allows users to **launch fully executable Jupyter environments** directly from GitHub repositories. It lets anyone run notebooks or Jupyter Books without installing anything locally, making content fully interactive and reproducible online.\n",
    "\n",
    "- **[Jupyter{book}](https://jupyterbook.org/)** extends the Jupyter ecosystem by allowing users to turn **collections of notebooks and Markdown files into interactive, publication-quality books and websites**. Unlike standalone notebooks, Jupyter Books provide structured chapters, table-of-contents, cross-references, and can be executed to show live outputs, making them ideal for teaching, tutorials, and reproducible scientific publications.\n",
    "\n",
    "\n",
    "```\n",
    "Jupyter Ecosystem Evolution (approximate years)\n",
    "==============================================\n",
    "\n",
    "IPython (2001) – interactive Python shell\n",
    "        │\n",
    "        ▼\n",
    "Jupyter (2014) – multi-language kernel architecture\n",
    "        │\n",
    "        ├── Jupyter Notebook (2015) – web-based interactive notebooks\n",
    "        │      – web-based interactive notebooks\n",
    "        |\n",
    "        ├── JupyterLab (2018) \n",
    "        │      – modern IDE-like workspace for notebooks & files\n",
    "        │\n",
    "        ├── Binder / MyBinder (2017)\n",
    "        │     – cloud service for executable notebooks (and later books)\n",
    "        |\n",
    "        └── Jupyter{book} (2018+) \n",
    "               – structured, publication-quality books from notebooks & Markdown\n",
    "```"
   ]
  },
  {
   "cell_type": "markdown",
   "id": "d17684a5-f017-4038-8d22-83a7679a48e4",
   "metadata": {},
   "source": [
    "## Colab\n",
    "\n",
    "Colab is Google’s cloud version of Jupyter Notebook, fully integrated with the Jupyter ecosystem, making it easy to run, share, and collaborate on notebooks online.\n",
    "\n",
    "**Colab (2017)** sits in this ecosystem as a **cloud-hosted Jupyter Notebook environment**:\n",
    "\n",
    "- Runs notebooks **without local setup**.  \n",
    "- Provides **free CPU/GPU/TPU resources**.  \n",
    "- Enables **real-time collaboration** like Google Docs.  \n",
    "- Fully compatible with **.ipynb notebooks**, so you can open notebooks from GitHub or Jupyter Book in Colab.  \n",
    "\n",
    "Colab is designed:\n",
    "- For **students, researchers, or teams** who don’t want to install Python locally.  \n",
    "- To **share interactive notebooks** with reproducible results.  \n",
    "- To **test notebooks from GitHub** quickly.  \n",
    "\n"
   ]
  },
  {
   "cell_type": "markdown",
   "id": "387643ec-dea3-4b57-90f1-a04b18963645",
   "metadata": {},
   "source": [
    "## Jupyter {book}\n",
    "\n",
    "\n",
    "[jupyter {book}](https://jupyterbook.org/en/stable/intro.html) and two important files:\n",
    "- [_config.xml](https://jupyterbook.org/en/stable/customize/config.html)\n",
    "- [_toc.yml](https://jupyterbook.org/en/stable/structure/configure.html)\n",
    "\n",
    "\n",
    "[Launch into interactive computing interfaces](https://jupyterbook.org/en/stable/interactive/launchbuttons.html)"
   ]
  },
  {
   "cell_type": "code",
   "execution_count": null,
   "id": "6062c730-6033-4e5a-a1c7-3396ab1575a6",
   "metadata": {},
   "outputs": [],
   "source": []
  }
 ],
 "metadata": {
  "kernelspec": {
   "display_name": "Python 3 (ipykernel)",
   "language": "python",
   "name": "python3"
  },
  "language_info": {
   "codemirror_mode": {
    "name": "ipython",
    "version": 3
   },
   "file_extension": ".py",
   "mimetype": "text/x-python",
   "name": "python",
   "nbconvert_exporter": "python",
   "pygments_lexer": "ipython3",
   "version": "3.13.5"
  }
 },
 "nbformat": 4,
 "nbformat_minor": 5
}
