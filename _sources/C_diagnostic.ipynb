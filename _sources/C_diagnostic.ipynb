{
 "cells": [
  {
   "cell_type": "markdown",
   "id": "1a84b7c0-0e31-4b64-8d12-4f70383b1702",
   "metadata": {},
   "source": [
    "# Diagnostic\n"
   ]
  },
  {
   "cell_type": "markdown",
   "id": "0a10a108-01bc-4852-86ff-cf5db1298e9b",
   "metadata": {},
   "source": [
    "## Myst\n",
    "\n",
    "\n",
    "This page tests **MyST Markdown extensions**.\n",
    "\n",
    "---\n",
    "\n",
    "### ✅ Task list\n",
    "- [x] Done  \n",
    "- [ ] Not yet done  \n",
    "\n",
    "---\n",
    "\n",
    "### 📦 Admonitions\n",
    "```{note}\n",
    "This is a *note* admonition.\n",
    "```\n",
    "\n",
    "```{warning}\n",
    "This is a *warning* admonition.\n",
    "```"
   ]
  },
  {
   "cell_type": "markdown",
   "id": "d17684a5-f017-4038-8d22-83a7679a48e4",
   "metadata": {},
   "source": []
  },
  {
   "cell_type": "code",
   "execution_count": null,
   "id": "6062c730-6033-4e5a-a1c7-3396ab1575a6",
   "metadata": {},
   "outputs": [],
   "source": []
  }
 ],
 "metadata": {
  "kernelspec": {
   "display_name": "Python 3 (ipykernel)",
   "language": "python",
   "name": "python3"
  },
  "language_info": {
   "codemirror_mode": {
    "name": "ipython",
    "version": 3
   },
   "file_extension": ".py",
   "mimetype": "text/x-python",
   "name": "python",
   "nbconvert_exporter": "python",
   "pygments_lexer": "ipython3",
   "version": "3.9.18"
  }
 },
 "nbformat": 4,
 "nbformat_minor": 5
}
