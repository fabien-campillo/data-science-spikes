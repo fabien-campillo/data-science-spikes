{
 "cells": [
  {
   "cell_type": "markdown",
   "id": "4253d432-b44a-4339-9257-4e08b53ee187",
   "metadata": {},
   "source": [
    "# Binder"
   ]
  },
  {
   "cell_type": "markdown",
   "id": "1f48897d-ad35-42a6-9b2c-40899037d104",
   "metadata": {},
   "source": [
    "[Binder](https://jupyter.org/binder) is a service that launches fully reproducible, executable Jupyter environments from GitHub repositories in the cloud, letting anyone run notebooks without installing anything locally."
   ]
  },
  {
   "cell_type": "code",
   "execution_count": null,
   "id": "5f688257-0a28-47c8-9a4e-89c51a443854",
   "metadata": {},
   "outputs": [],
   "source": []
  }
 ],
 "metadata": {
  "kernelspec": {
   "display_name": "Python 3 (ipykernel)",
   "language": "python",
   "name": "python3"
  },
  "language_info": {
   "codemirror_mode": {
    "name": "ipython",
    "version": 3
   },
   "file_extension": ".py",
   "mimetype": "text/x-python",
   "name": "python",
   "nbconvert_exporter": "python",
   "pygments_lexer": "ipython3",
   "version": "3.13.7"
  }
 },
 "nbformat": 4,
 "nbformat_minor": 5
}
