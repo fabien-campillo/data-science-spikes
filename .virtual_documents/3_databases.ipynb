




















import numpy as np
import matplotlib.pyplot as plt
import pyabf                     # load the pyABF library (cf. infra)
import seaborn as sns            # used for a Kernel Density Estimate (KDE) plot





file_path = "lhb_bursting/cell89basal.abf"
print('path to the abf file : ',file_path)




















abf = pyabf.ABF(file_path)              # we load it
print(abf)                              # record characteristics 








print(f"{'File Path:':>20} {abf.abfFilePath}")
print(f"{'File Version:':>20} {abf.abfVersionString}")
print(f"{'Sampling Rate:':>20} {abf.dataRate} Hz")
print(f"{'Total Sweeps:':>20} {abf.sweepCount}")
print(f"{'ADC Channels:':>20} {abf.adcNames}")
print(f"{'DAC Channels:':>20} {abf.dacNames}")
print(f"{'Channel Units:':>20} {abf.sweepUnitsY}")
print(f"{'Experiment Date:':>20} {abf.abfDateTime}")





methods = [method for method in dir(abf) if callable(getattr(abf, method)) and not method.startswith("__")]
print("\n".join(methods))








# Print voltage trace (recorded signal)
print(f"{'Voltage Trace (mV):':>25} {abf.sweepY}")

# Print command input (if available)
print(f"{'Command Input (mV):':>25} {abf.sweepC}")








print("List of sweep indexes:", ", ".join(map(str, abf.sweepList)))


sweep_index = 0  # Choose a specific sweep (e.g., first sweep -> index 0)
abf.setSweep(sweep_index)  

# Print voltage trace (recorded signal)
print(f"{'Voltage Trace (mV):':>25} {abf.sweepY}")

# Print command input (if available)
print(f"{'Command Input (mV):':>25} {abf.sweepC}")

# Check all available ADC channels (recorded signals)
print(f"{'Recorded Channels:':>25} {abf.adcNames}")

# Check DAC channels (command input signals)
print(f"{'Command Channels:':>25} {abf.dacNames}")





data = abf.sweepY  # The voltage trace for the specific swwep

stats = {
    "Mean (mV)": np.mean(data),
    "Median (mV)": np.median(data),
    "Min (mV)": np.min(data),
    "Max (mV)": np.max(data),
    "Std Dev (mV)": np.std(data),
    "Range (mV)": np.ptp(data),  # Max - Min
}

print("\nVoltage Trace Statistics:")
for key, value in stats.items():
    print(f"{key:>20}: {value:.3f}")





# Create a figure with two subplots (1 row, 2 columns)
fig, axes = plt.subplots(1, 2, figsize=(10, 4))

# Plot histogram on the first subplot
axes[0].hist(data, bins=50, edgecolor='black', alpha=0.7)
axes[0].set_xlabel("Voltage (mV)")
axes[0].set_ylabel("Frequency")
axes[0].set_title("Voltage Trace Distribution")
axes[0].grid(True)

# Plot KDE on the second subplot
sns.kdeplot(data, bw_adjust=0.5, fill=True, color="b", alpha=0.5, ax=axes[1])
axes[1].set_xlabel("Voltage (mV)")
axes[1].set_ylabel("Density")
axes[1].set_title("Voltage Trace Density")
axes[1].grid(True)

# Adjust layout
plt.tight_layout()
plt.show()








def plot_abf():
    plt.figure(figsize=(8, 5))

    # plot every sweep (with vertical offset)
    for sweepNumber in abf.sweepList:
        abf.setSweep(sweepNumber)
        offset = 140*sweepNumber
        plt.plot(abf.sweepX, abf.sweepY+offset, color='b',lw=0.1)

    # decorate the plot
    plt.gca().get_yaxis().set_visible(False)  # hide Y axis
    plt.title(file_path)
    plt.xlabel(abf.sweepLabelX)
    plt.show()


plot_abf()





def plot_abf():
    plt.figure(figsize=(8, 5))

    # Plot every sweep with vertical offset
    for sweepNumber in abf.sweepList:
        abf.setSweep(sweepNumber)
        offset = 140 * sweepNumber
        plt.plot(abf.sweepX, abf.sweepY + offset, color='b', lw=0.1)  # Recorded voltage
        plt.plot(abf.sweepX, abf.sweepC + offset, color='r', lw=0.5)  # Command waveform in red

    # Decorate the plot
    plt.gca().get_yaxis().set_visible(False)  # Hide Y axis
    plt.title(file_path)
    plt.xlabel(abf.sweepLabelX)
    plt.show()

plot_abf()





# Create the figure
fig, ax1 = plt.subplots(figsize=(8, 5))

# Plot the recorded curve (ADC) on the left axis
ax1.plot(abf.sweepX, abf.sweepY, color='b', lw=0.2, label="ADC waveform")
ax1.set_xlabel(abf.sweepLabelX)
ax1.set_ylabel(abf.sweepLabelY, color='b')
ax1.tick_params(axis='y', labelcolor='b')

# Create a second y-axis for the control curve (DAC)
ax2 = ax1.twinx()
ax2.plot(abf.sweepX, abf.sweepC, color='r', lw=0.2,label="DAC waveform")
ax2.set_ylabel(abf.sweepLabelC, color='r')
ax2.tick_params(axis='y', labelcolor='r')

# Improve the layout
fig.tight_layout()
plt.show()





data_to_explore = []
data_to_explore.append(("lhb_bursting/cell21basal.abf",   5))
data_to_explore.append(("lhb_bursting/cell89basal.abf",  15))
data_to_explore.append(("lhb_bursting/cell91basal.abf",   4))
data_to_explore.append(("lhb_bursting/cell98basal.abf",   9))
data_to_explore.append(("lhb_bursting/cell104basal.abf", 10))
data_to_explore.append(("lhb_bursting/cell105basal.abf",  7))
data_to_explore.append(("lhb_bursting/cell107basal.abf",  0))
data_to_explore.append(("lhb_bursting/cell209basal.abf",  4))

for abf_file, sweep_number in data_to_explore:
    print(f"ABF File: {abf_file:<30} {'Sweep Number:':>15} {sweep_number:>3}")


# Créer la figure
plt.figure(figsize=(10, 6))

# Tracer chaque fichier/sweep avec un décalage vertical
for i, (file_path, sweep_num) in enumerate(data_to_explore):
    abf = pyabf.ABF(file_path)
    abf.setSweep(sweep_num)
    offset = i * 150  # décalage vertical entre les tracés
    plt.plot(abf.sweepX, abf.sweepY + offset, lw=0.3, label=f"{file_path} [sweep {sweep_num}]")

# Mise en forme
plt.gca().get_yaxis().set_visible(False)  # cacher l'axe Y
plt.xlabel("Temps (s)")
plt.title("Tracés en tension pour différents fichiers/sweeps")
plt.legend(fontsize="xx-small", loc="upper right")
plt.tight_layout()
plt.show()
