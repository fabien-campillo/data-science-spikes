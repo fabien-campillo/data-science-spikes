{
 "cells": [
  {
   "cell_type": "markdown",
   "id": "adc9a158-af48-43c5-b370-dd49b6862bf5",
   "metadata": {},
   "source": [
    "# Appendix B: Conda"
   ]
  },
  {
   "cell_type": "markdown",
   "id": "7d94a706-13ae-4c5e-86a2-02bf82e5be56",
   "metadata": {},
   "source": [
    "<!--\n",
    "Write a Markdown document explaining how to use conda. The main usages and tips. Keep everything beginner-friendly and continuous. Output the entire document inside a single Markdown code block using triple backticks so that the Markdown source is preserved literally.\n",
    "-->\n",
    "\n",
    "\n",
    "Conda is a package manager for Python and other languages. It helps you install packages and manage dependencies easily.\n",
    "\n",
    "## Basics\n",
    "\n",
    "```bash\n",
    "# check that it is correctly installed:\n",
    "conda --version\n",
    "\n",
    "# keep Conda up-to-date with:\n",
    "conda update conda\n",
    "\n",
    "# install a package (Replace `numpy` with the desired package name):\n",
    "conda install numpy\n",
    "\n",
    "# install a specific version:\n",
    "conda install numpy=1.25\n",
    "\n",
    "# install multiple packages at once:\n",
    "conda install numpy pandas matplotlib\n",
    "\n",
    "# updating packages:\n",
    "conda update numpy\n",
    "\n",
    "# removing packages:\n",
    "conda remove numpy\n",
    "\n",
    "# searching for packages(replace `package_name` with the \n",
    "# name of the package you want to find):\n",
    "conda search package_name\n",
    "```\n",
    "\n",
    "## Conda tips\n",
    "\n",
    "Update Conda regularly to get bug fixes and security updates.\n",
    "\n",
    "If a package is not found, check alternative channels:\n",
    "\n",
    "```bash\n",
    "conda install -c conda-forge package_name\n",
    "```\n",
    "\n",
    "## Summary of common Conda commands\n",
    "\n",
    "| Task | Command |\n",
    "|------|---------|\n",
    "| Check Conda version | `conda --version` |\n",
    "| Update Conda | `conda update conda` |\n",
    "| Install package | `conda install package_name` |\n",
    "| Install specific version | `conda install package_name=version` |\n",
    "| Install multiple packages | `conda install package1 package2` |\n",
    "| Update package | `conda update package_name` |\n",
    "| Remove package | `conda remove package_name` |\n",
    "| Search for package | `conda search package_name` |\n",
    "| Install from channel | `conda install -c conda-forge package_name` |"
   ]
  },
  {
   "cell_type": "code",
   "execution_count": null,
   "id": "ab9e8f7c-dd1b-4829-9ec9-7d7270d92617",
   "metadata": {},
   "outputs": [],
   "source": []
  }
 ],
 "metadata": {
  "kernelspec": {
   "display_name": "Python 3 (ipykernel)",
   "language": "python",
   "name": "python3"
  },
  "language_info": {
   "codemirror_mode": {
    "name": "ipython",
    "version": 3
   },
   "file_extension": ".py",
   "mimetype": "text/x-python",
   "name": "python",
   "nbconvert_exporter": "python",
   "pygments_lexer": "ipython3",
   "version": "3.13.7"
  }
 },
 "nbformat": 4,
 "nbformat_minor": 5
}
