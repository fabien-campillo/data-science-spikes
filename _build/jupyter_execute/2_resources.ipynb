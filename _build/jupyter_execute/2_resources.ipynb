{
 "cells": [
  {
   "cell_type": "markdown",
   "id": "622e8513-d67f-4e7f-b90b-aaa2aebbfed1",
   "metadata": {},
   "source": [
    "# Resources and references"
   ]
  },
  {
   "cell_type": "markdown",
   "id": "82bf3172-50df-49ed-a2e8-607292887b93",
   "metadata": {},
   "source": [
    "## General references about DS\n",
    "\n",
    "- **Practical Statistics for Data Scientists: 50+ Essential Concepts Using R and Python** (2nd edition) by Peter Bruce, Andrew Bruce, Peter Gedeck, 2020 [[link](https://www.oreilly.com/library/view/practical-statistics-for/9781492072935/)]\n",
    "\n",
    "- **Python for Probability, Statistics, and Machine Learning** (Third Edition) by José Unpingco, 2022 [[link](https://link.springer.com/book/10.1007/978-3-031-04648-3)]. Covers: Getting Started with Scientific Python, Probability, Statistics, Machine Learning (good and quite classic presentation).\n",
    "\n",
    "- **Deep Learning with TensorFlow, Keras, and PyTorch** by [Jon Krohn](https://www.jonkrohn.com) [[github](https://github.com/jonkrohn/DLTFpT)], with an associated book: [Deep Learning Illustrated](https://www.deeplearningillustrated.com).\n"
   ]
  },
  {
   "cell_type": "markdown",
   "id": "445d01ef-4bcb-49fa-aeb2-e257ae4fb87c",
   "metadata": {},
   "source": [
    "## Some Python Libraries \n",
    "\n",
    "In addition to basic Python, you should start to be familiar with some other tools:\n",
    "\n",
    "- Python classics:\n",
    "    - [NumPy](https://numpy.org/) – numerical computing and array manipulation.\n",
    "    - [SciPy](https://scipy.org/) – scientific computing and statistics.\n",
    "    - [Matplotlib](https://matplotlib.org/) – basic plotting library.\n",
    "- Data Manipulation:\n",
    "    - [Pandas](https://pandas.pydata.org) – data structures and analysis tools.\n",
    "- Statistical Analysis:\n",
    "    - [statsmodels](https://www.statsmodels.org/stable/index.html) – estimation of statistical models, statistical tests, and data exploration.\n",
    "- Machine Learning:\n",
    "    - [Scikit-learn](https://scikit-learn.org/stable/) – widely used machine learning library.\n",
    "- Natural Language Processing (NLP):\n",
    "    - [NLTK](https://www.nltk.org) – platform for working with human language data.\n",
    "    - [SpaCy](https://spacy.io) – main library for NLP tasks.\n",
    "    - [Gensim](https://radimrehurek.com/gensim/intro.html) – topic modeling library.\n",
    "- Data Visualization:\n",
    "    - [Seaborn](https://seaborn.pydata.org) – statistical data visualization.\n",
    "    - [Plotly](https://plotly.com/python/) – interactive graphing library.\n",
    "- Web Scraping:\n",
    "    - [BeautifulSoup](https://beautiful-soup-4.readthedocs.io/en/latest/) – extracting data from HTML files.\n"
   ]
  },
  {
   "cell_type": "markdown",
   "id": "21876a78-0c61-4309-8266-a227b2b6a67e",
   "metadata": {},
   "source": [
    "## Neurosciences\n",
    "\n",
    "Even though we are mainly interested in processing electrophysiology measurements such as spikes, we will attempt an overview of neuroscience resources.\n",
    "\n",
    "We will focus on electrophysiology data processing and distinguish between:\n",
    "\n",
    "- M/EEG data, non-invasive/extracranial,\n",
    "- and invasive data at the single neuron level or from a population of neurons, notably using MEA (Multi-Electrode Array).\n",
    "\n",
    "**It is this second category, which we will call \"direct electrophysiology,\" that is of most interest to us (MathNeuro).** The first category is very well developed.\n",
    "\n",
    "Processing extracranial electrophysiological data (EEG/MEG) is generally more complex than processing intracranial measurements (spikes, LFP, ECoG). In intracranial recordings, electrodes are close to neurons: the signal is more localized, with a better signal-to-noise ratio, which facilitates the identification of action potentials or local fields. In contrast, extracranial signals are heavily attenuated, resulting from the summation of millions of neurons and distorted by cranial tissues. They are also contaminated by numerous artifacts. Analysis therefore requires advanced processing (filtering, correction, modeling) and solving the inverse problem (retrieving brain sources from incomplete and ambiguous measurements, which is a mathematically ill-posed problem)."
   ]
  },
  {
   "cell_type": "markdown",
   "id": "09521e23-e73e-4c0b-836f-056959be5764",
   "metadata": {},
   "source": [
    "### General Resources\n",
    "\n",
    "- [Python in Neuroscience](https://www.frontiersin.org/journals/neuroinformatics/articles/10.3389/fninf.2015.00011/full)  \n",
    "E. Muller, J. A. Bednar, M. Diesmann, M.-O. Gewaltig, M. Hines, and A. P. Davison  \n",
    "Frontiers in Neuroinformatics, 9, 2015.\n",
    "\n",
    "- [Case Studies in Neural Data Analysis](https://mitpress.ublish.com/book/case-studies-neural-data-analysis), 2016.  \n",
    "The book presents MATLAB tools, but there is an associated [GitHub repository](https://github.com/Mark-Kramer/Case-Studies-Kramer-Eden) for Python. The book primarily covers extracranial data, except Chapter 8: *Basic Visualizations and Descriptive Statistics of SpikeTrainData*.\n",
    "\n",
    "- [Neural Data Science](https://neuraldatascience.io/) (2020–23) by [Aaron J. Newman](https://www.dal.ca/faculty/science/psychology_neuroscience/faculty-staff/our-faculty/aaron-newman.html) from the [NeuroCognitive Imaging Lab](https://www.ncilab.ca) (Dalhousie University, Halifax).  \n",
    "Starts from scratch, especially in Python. Includes a section on [Single Unit Data](https://neuraldatascience.io/6-single_unit/introduction.html). See the [GitHub repository](https://github.com/neural-data-science/NESC_3505_textbook) for the Jupyter Book and the YouTube channel [Neural Data Science with Python](https://www.youtube.com/playlist?list=PLtfEWMIgWS22MMZjPIzBRE2cHhMcvEKwp).\n",
    "\n",
    "- *Neural Data Science: A Primer with MATLAB and Python*, Erik Lee Nylen and Pascal Wallisch, 2017.  \n",
    "See the [table of contents](https://www.sciencedirect.com/book/9780128040430/neural-data-science).\n",
    "\n"
   ]
  },
  {
   "cell_type": "markdown",
   "id": "661f2f9a-05c4-4fa8-8e71-2751c3b587c7",
   "metadata": {},
   "source": [
    "### Electrophysiology M/EEG"
   ]
  },
  {
   "cell_type": "markdown",
   "id": "080b5426-5fa4-4cd0-9e95-a3c9a9fbde91",
   "metadata": {},
   "source": [
    "### \"Direct\" electrophysiology"
   ]
  },
  {
   "cell_type": "markdown",
   "id": "ffc27a4a-9804-438e-84e2-bb5dd4e8ef34",
   "metadata": {},
   "source": [
    "## Electrophysiology\n",
    "\n",
    "\n",
    "\n",
    "## Spike Train and Electrophysiology Data Analysis\n",
    "\n",
    "#### References\n",
    "\n",
    "- [Systems Neuroscience Computing in Python (SyNCoPy): a Python package for large-scale analysis of electrophysiological data](https://www.frontiersin.org/journals/neuroinformatics/articles/10.3389/fninf.2024.1448161/full), Systems Neuroscience Computing in Python (SyNCoPy), 2024\n",
    "\n",
    "#### Python Tools\n",
    "\n",
    "- [pynapple](https://pynapple.org) – Python Neural Analysis Package. Pynapple is a lightweight Python library for neurophysiological data analysis. See the article: [Pynapple, a toolbox for data analysis in neuroscience](https://elifesciences.org/reviewed-preprints/85786), 2023.\n",
    "\n",
    "- [osl-ephys](https://osl-ephys.readthedocs.io/en/latest/) – from the [Oxford Centre for Human Brain Activity Analysis Group](https://www.psych.ox.ac.uk/research/ohba-analysis-group), with this [GitHub repository](https://github.com/OHBA-analysis/OHBA-Examples/tree/main) and this 2025 paper: [osl-ephys: a Python toolbox for the analysis of electrophysiology data](https://www.frontiersin.org/journals/neuroscience/articles/10.3389/fnins.2025.1522675/full).  \n",
    "  ⚠️ This is for **M/EEG data [Magnetoencephalography (MEG) + Electroencephalography (EEG)].** osl-ephys is built on the [MNE package](https://mne.tools/stable/index.html) (Open-source Python package for exploring, visualizing, and analyzing human neurophysiological data: MEG, EEG, sEEG, ECoG, NIRS, and more).\n",
    "\n",
    "- [NeuralEnsemble](http://neuralensemble.org) – a community-based initiative to promote and coordinate open-source software development in neuroscience. **Inactive since 2022.**\n",
    "\n",
    "Follow Christophe Pouzat: [website](https://xtof.perso.math.cnrs.fr), [GitHub](https://github.com/christophe-pouzat), [GitLab](https://gitlab.com/c_pouzat), [PLMLab](https://plmlab.math.cnrs.fr/xtof). He points to datasets:\n",
    "\n",
    "- Tetrode recording from the antennal lobe of a locust (*Schistocerca americana*) (doi: 10.5281/zenodo.14607).  \n",
    "- Dataset from Matthieu Delescluse and Christophe Pouzat (2006), *Efficient spike-sorting of multi-state neurons using inter-spike intervals information*, Journal of Neuroscience Methods 150: 16–29. (doi: 10.5281/zenodo.15228).  \n",
    "- Dataset from Pouzat and Chaffiol (2009), Journal of Neuroscience Methods 181:119. (doi: 10.5281/zenodo.14281).  \n",
    "- All postdoc extracellular recordings from the locust olfactory pathway are now available — a third of the data was lost due to CD corruption after 14 years! (doi: 10.5281/zenodo.21589). Roughly 15 GB of data from 14 experiments. Detailed descriptions of the spike sorting are available on GitHub.  \n",
    "\n",
    "See also: [Probabilistic Spiking Neuronal Nets: Companion](https://probabilistic-spiking-neuronal-nets-c-pouzat-491a1ca82ffec5679d.gitlab.io/index.html).\n"
   ]
  },
  {
   "cell_type": "markdown",
   "id": "34345ec3-4e2e-496e-bd95-5336b2a20238",
   "metadata": {},
   "source": []
  },
  {
   "cell_type": "markdown",
   "id": "8b85e692-d0fa-41cf-917f-0bef02f1594d",
   "metadata": {},
   "source": []
  }
 ],
 "metadata": {
  "kernelspec": {
   "display_name": "Python 3 (ipykernel)",
   "language": "python",
   "name": "python3"
  },
  "language_info": {
   "codemirror_mode": {
    "name": "ipython",
    "version": 3
   },
   "file_extension": ".py",
   "mimetype": "text/x-python",
   "name": "python",
   "nbconvert_exporter": "python",
   "pygments_lexer": "ipython3",
   "version": "3.13.7"
  }
 },
 "nbformat": 4,
 "nbformat_minor": 5
}