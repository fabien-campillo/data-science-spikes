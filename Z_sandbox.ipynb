{
 "cells": [
  {
   "cell_type": "markdown",
   "id": "adc9a158-af48-43c5-b370-dd49b6862bf5",
   "metadata": {},
   "source": [
    "# SANDBOX"
   ]
  },
  {
   "cell_type": "markdown",
   "id": "9c23c84a-0255-4d04-be52-f419170d50cf",
   "metadata": {},
   "source": [
    "# VOIR\n",
    "\n",
    "- [Links](https://www.winltp.co.uk/LowCostNoCost.html)  to Low Cost / No Cost Electrophysiology Software for Synaptic Plasticity Related Software\n",
    "- [OneMol](https://onemol.org.uk/?page_id=8) UCL's single channel group: [onemol.org.uk](https://onemol.org.uk)\n",
    "- [David Colquhoun's single channel analysis programs](https://www.winltp.co.uk/LowCostNoCost.html)\n",
    "- [Spike2_Burst_Analysis](https://github.com/marderlab/Spike2_Burst_Analysis) Get bursts from .abf (pClamp) files using Spike2 scripts. Do further analysis in Matlab Some of the scripts were written by Dirk Bucher\n",
    "- [wcr-python](https://github.com/dav1dcg/wcr-python) et [neuro-notebook-templates](https://github.com/dav1dcg/neuro-notebook-templates)  de [David Cabrera-Garcia](https://scholar.google.com/citations?user=Dmwnwb4AAAAJ&hl=en)"
   ]
  },
  {
   "cell_type": "code",
   "execution_count": 1,
   "id": "7ec1df4f-f61c-4239-887c-c561a8387355",
   "metadata": {},
   "outputs": [
    {
     "ename": "ModuleNotFoundError",
     "evalue": "No module named 'pyabf'",
     "output_type": "error",
     "traceback": [
      "\u001b[31m---------------------------------------------------------------------------\u001b[39m",
      "\u001b[31mModuleNotFoundError\u001b[39m                       Traceback (most recent call last)",
      "\u001b[36mCell\u001b[39m\u001b[36m \u001b[39m\u001b[32mIn[1]\u001b[39m\u001b[32m, line 2\u001b[39m\n\u001b[32m      1\u001b[39m \u001b[38;5;28;01mimport\u001b[39;00m\u001b[38;5;250m \u001b[39m\u001b[34;01mrequests\u001b[39;00m\n\u001b[32m----> \u001b[39m\u001b[32m2\u001b[39m \u001b[38;5;28;01mimport\u001b[39;00m\u001b[38;5;250m \u001b[39m\u001b[34;01mpyabf\u001b[39;00m\n\u001b[32m      4\u001b[39m doi = \u001b[33m\"\u001b[39m\u001b[33m10.5061/dryad.xxxxx\u001b[39m\u001b[33m\"\u001b[39m  \u001b[38;5;66;03m# replace with dataset DOI\u001b[39;00m\n\u001b[32m      5\u001b[39m r = requests.get(\u001b[33mf\u001b[39m\u001b[33m\"\u001b[39m\u001b[33mhttps://datadryad.org/api/v2/datasets/\u001b[39m\u001b[38;5;132;01m{\u001b[39;00mdoi\u001b[38;5;132;01m}\u001b[39;00m\u001b[33m\"\u001b[39m)\n",
      "\u001b[31mModuleNotFoundError\u001b[39m: No module named 'pyabf'"
     ]
    }
   ],
   "source": [
    "import requests\n",
    "import pyabf\n",
    "\n",
    "doi = \"10.5061/dryad.xxxxx\"  # replace with dataset DOI\n",
    "r = requests.get(f\"https://datadryad.org/api/v2/datasets/{doi}\")\n",
    "files = r.json()[\"included\"]\n",
    "for f in files:\n",
    "    if f[\"attributes\"][\"filename\"].endswith(\".abf\"):\n",
    "        url = f[\"attributes\"][\"downloadUrl\"]\n",
    "        abf_data = requests.get(url)\n",
    "        with open(f[\"attributes\"][\"filename\"], \"wb\") as fh:\n",
    "            fh.write(abf_data.content)\n",
    "        abf = pyabf.ABF(f[\"attributes\"][\"filename\"])\n"
   ]
  },
  {
   "cell_type": "markdown",
   "id": "1d3f8ca4-2116-48fd-8eaf-1a7e3bdbcc61",
   "metadata": {},
   "source": [
    "#### Check `conda` and create a virtual environment\n",
    "\n",
    "\n",
    "- check if you have `conda`:\n",
    "```bash\n",
    "campillo@MacFabienWork data-science-spikes % conda --version\n",
    "conda 25.5.1\n",
    "```\n",
    "note that `campillo@MacFabienWork data-science-spikes %` is just the unix prompt in MaxOS, `user_name@computer_name dir_name %` \n",
    "\n",
    "- create a conda virtual environment named `spikes`:\n",
    "```bash\n",
    "campillo@MacFabienWork data-science-spikes % conda create -n spikes python=3.11\n",
    "2 channel Terms of Service accepted\n",
    "Channels:\n",
    "[could be long]\n",
    "#\n",
    "# To activate this environment, use                                                                                      #\n",
    "#     $ conda activate spikes                                                                                            #\n",
    "# To deactivate an active environment, use\n",
    "#\n",
    "#     $ conda deactivate\n",
    "```\n",
    "\n",
    "-  activate the virtual environment:\n",
    "```bash\n",
    "campillo@MacFabienWork data-science-spikes % conda activate spikes             \n",
    "(spikes) campillo@MacFabienWork data-science-spikes % \n",
    "```\n",
    "the prompt is modified, indicating that uou are under the `(spikes)` virtual environment.\n",
    "\n",
    "- Install the packages you’ll need:\n",
    "```bashrc\n",
    "(spikes) campillo@MacFabienWork data-science-spikes % conda install -c conda-forge jupyterlab jupyter-book matplotlib numpy pandas\n",
    "2 channel Terms of Service accepted\n",
    "Channels:\n",
    " - conda-forge\n",
    " - defaults\n",
    "Platform: osx-64\n",
    "Collecting package metadata (repodata.json): done\n",
    "Solving environment: done\n",
    "\n",
    "## Package Plan ##\n",
    "\n",
    "  environment location: /opt/anaconda3/envs/spikes\n",
    "\n",
    "  added / updated specs:\n",
    "    - jupyter-book\n",
    "    - jupyterlab\n",
    "    - matplotlib\n",
    "    - numpy\n",
    "    - pandas\n",
    "\n",
    "\n",
    "(spikes) campillo@MacFabienWork data-science-spikes % \n",
    "```\n",
    "\n",
    "- `pyabf` package is not available through Conda channels\n",
    "```\n",
    "(spikes) campillo@MacFabienWork data-science-spikes % pip install pyabf\n",
    "Collecting pyabf\n",
    "...\n",
    "Successfully installed iniconfig-2.1.0 pluggy-1.6.0 pyabf-2.3.8 pytest-8.4.2\n",
    "```"
   ]
  },
  {
   "cell_type": "code",
   "execution_count": null,
   "id": "44497e22-edd7-42de-b164-0904a8fd3abc",
   "metadata": {},
   "outputs": [],
   "source": []
  }
 ],
 "metadata": {
  "kernelspec": {
   "display_name": "Python 3 (ipykernel)",
   "language": "python",
   "name": "python3"
  },
  "language_info": {
   "codemirror_mode": {
    "name": "ipython",
    "version": 3
   },
   "file_extension": ".py",
   "mimetype": "text/x-python",
   "name": "python",
   "nbconvert_exporter": "python",
   "pygments_lexer": "ipython3",
   "version": "3.13.7"
  }
 },
 "nbformat": 4,
 "nbformat_minor": 5
}
